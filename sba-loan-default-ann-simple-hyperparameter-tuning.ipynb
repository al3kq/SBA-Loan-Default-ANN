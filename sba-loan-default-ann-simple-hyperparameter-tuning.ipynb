{
 "cells": [
  {
   "cell_type": "markdown",
   "metadata": {
    "papermill": {
     "duration": 0.009199,
     "end_time": "2020-12-03T23:43:35.588674",
     "exception": false,
     "start_time": "2020-12-03T23:43:35.579475",
     "status": "completed"
    },
    "tags": []
   },
   "source": [
    "### This project attempts to classify SBA Loan's using MLPClassifier and various hyperparameter tuning techniques\n",
    "Below are the necessary imports I will be using."
   ]
  },
  {
   "cell_type": "code",
   "execution_count": 1,
   "metadata": {
    "_cell_guid": "b1076dfc-b9ad-4769-8c92-a6c4dae69d19",
    "_uuid": "8f2839f25d086af736a60e9eeb907d3b93b6e0e5",
    "execution": {
     "iopub.execute_input": "2020-12-03T23:43:35.614945Z",
     "iopub.status.busy": "2020-12-03T23:43:35.614216Z",
     "iopub.status.idle": "2020-12-03T23:43:35.623054Z",
     "shell.execute_reply": "2020-12-03T23:43:35.622448Z"
    },
    "papermill": {
     "duration": 0.024776,
     "end_time": "2020-12-03T23:43:35.623179",
     "exception": false,
     "start_time": "2020-12-03T23:43:35.598403",
     "status": "completed"
    },
    "tags": []
   },
   "outputs": [
    {
     "name": "stdout",
     "output_type": "stream",
     "text": [
      "/kaggle/input/sba-loans-case-data-set/SBAcase.11.13.17.csv\n"
     ]
    }
   ],
   "source": [
    "# This Python 3 environment comes with many helpful analytics libraries installed\n",
    "# It is defined by the kaggle/python Docker image: https://github.com/kaggle/docker-python\n",
    "# For example, here's several helpful packages to load\n",
    "\n",
    "import numpy as np # linear algebra\n",
    "import pandas as pd # data processing, CSV file I/O (e.g. pd.read_csv)\n",
    "\n",
    "\n",
    "# Input data files are available in the read-only \"../input/\" directory\n",
    "# For example, running this (by clicking run or pressing Shift+Enter) will list all files under the input directory\n",
    "\n",
    "import os\n",
    "for dirname, _, filenames in os.walk('/kaggle/input'):\n",
    "    for filename in filenames:\n",
    "        print(os.path.join(dirname, filename))\n",
    "\n",
    "# You can write up to 20GB to the current directory (/kaggle/working/) that gets preserved as output when you create a version using \"Save & Run All\" \n",
    "# You can also write temporary files to /kaggle/temp/, but they won't be saved outside of the current session"
   ]
  },
  {
   "cell_type": "markdown",
   "metadata": {
    "papermill": {
     "duration": 0.008236,
     "end_time": "2020-12-03T23:43:35.640448",
     "exception": false,
     "start_time": "2020-12-03T23:43:35.632212",
     "status": "completed"
    },
    "tags": []
   },
   "source": [
    "### Reading and Cleaning data for Feature Selection\n",
    "The data set is read into a dataframe using pandas. All non-numeric features are removed. ChgOffDate mostly consistes of NA and BalanceGross is all zeros, so both are removed. The features are placed extracted to X and default dummy variables to y. The total dataset loan default rate is printed below. The feature set is then standarized and normalized.\n",
    "<br />\n",
    "TODO: encode and add non-numeric features. Handle NA values. "
   ]
  },
  {
   "cell_type": "code",
   "execution_count": 2,
   "metadata": {
    "execution": {
     "iopub.execute_input": "2020-12-03T23:43:35.671106Z",
     "iopub.status.busy": "2020-12-03T23:43:35.670210Z",
     "iopub.status.idle": "2020-12-03T23:43:36.976569Z",
     "shell.execute_reply": "2020-12-03T23:43:36.977894Z"
    },
    "papermill": {
     "duration": 1.329116,
     "end_time": "2020-12-03T23:43:36.978106",
     "exception": false,
     "start_time": "2020-12-03T23:43:35.648990",
     "status": "completed"
    },
    "tags": []
   },
   "outputs": [
    {
     "name": "stdout",
     "output_type": "stream",
     "text": [
      "Loan Default percentage in training set: 32.4%\n",
      "Loan Default percentage in test set: 33.8%\n"
     ]
    }
   ],
   "source": [
    "from sklearn.preprocessing import StandardScaler, MinMaxScaler\n",
    "from sklearn.model_selection import train_test_split\n",
    "import matplotlib.pyplot as plt\n",
    "\n",
    "\n",
    "\n",
    "\n",
    "df = pd.read_csv(\"../input/sba-loans-case-data-set/SBAcase.11.13.17.csv\")\n",
    "\n",
    "df = df.select_dtypes(exclude = 'object')\n",
    "#removes 'ChgOffDate' and 'BalanceGross' features\n",
    "df = df.loc[:, df.columns != 'ChgOffDate']\n",
    "df = df.loc[:, df.columns != 'BalanceGross']\n",
    "df = df.loc[:, df.columns != 'Zip']\n",
    "#remove remaining NA values\n",
    "df = df.dropna()\n",
    "x_train, x_test, y_train, y_test = train_test_split(df.iloc[:,0:df.shape[1]-1], df.iloc[:,df.shape[1]-1], test_size = .2)\n",
    "\n",
    "scaler = StandardScaler()\n",
    "scaler.fit(x_train)\n",
    "\n",
    "x_train_scaled = scaler.transform(x_train)\n",
    "x_test_scaled = scaler.transform(x_test)\n",
    "\n",
    "print('Loan Default percentage in training set: %.1f%%' % (100*np.mean(y_train)))\n",
    "print('Loan Default percentage in test set: %.1f%%' % (100*np.mean(y_test)))\n"
   ]
  },
  {
   "cell_type": "markdown",
   "metadata": {
    "papermill": {
     "duration": 0.012815,
     "end_time": "2020-12-03T23:43:37.005131",
     "exception": false,
     "start_time": "2020-12-03T23:43:36.992316",
     "status": "completed"
    },
    "tags": []
   },
   "source": [
    "### Learning Curve f1 score of various training sizes graphed\n",
    "Seaborn is used to graph the change in f1 over increasing training set sizes. The graph shows a small gap between the validation and training set f1 score, but both continue to converge with more training examples. F1 was used for its combination of both accuracy and percision, but similar results were found using balanced_accuracy and other metrics."
   ]
  },
  {
   "cell_type": "code",
   "execution_count": 3,
   "metadata": {
    "execution": {
     "iopub.execute_input": "2020-12-03T23:43:37.043654Z",
     "iopub.status.busy": "2020-12-03T23:43:37.042697Z",
     "iopub.status.idle": "2020-12-03T23:46:33.043633Z",
     "shell.execute_reply": "2020-12-03T23:46:33.044341Z"
    },
    "papermill": {
     "duration": 176.026306,
     "end_time": "2020-12-03T23:46:33.044521",
     "exception": false,
     "start_time": "2020-12-03T23:43:37.018215",
     "status": "completed"
    },
    "tags": []
   },
   "outputs": [
    {
     "data": {
      "text/plain": [
       "(0.0, 1.0)"
      ]
     },
     "execution_count": 3,
     "metadata": {},
     "output_type": "execute_result"
    },
    {
     "data": {
      "image/png": "[encoded data removed]",
      "text/plain": [
       "<Figure size 576x396 with 1 Axes>"
      ]
     },
     "metadata": {},
     "output_type": "display_data"
    }
   ],
   "source": [
    "import warnings  \n",
    "warnings.filterwarnings('ignore')\n",
    "from sklearn import metrics\n",
    "from sklearn.model_selection import train_test_split, ShuffleSplit\n",
    "from sklearn.model_selection import learning_curve\n",
    "from sklearn.neural_network import MLPClassifier\n",
    "\n",
    "# 1342 is max size of training set, with 20% removed for cross validation\n",
    "bigtrain_sizes = list(range(1,1342))\n",
    "train_sizes = [1]\n",
    "for i in bigtrain_sizes:\n",
    "    if i % 100 == 0:\n",
    "        train_sizes.append(int(i))\n",
    "train_sizes.append(1342)\n",
    "\n",
    "\n",
    "clf = MLPClassifier(batch_size=10, verbose=False, early_stopping=True)\n",
    "cv = ShuffleSplit(n_splits=10, test_size=0.2)\n",
    "train_sizes, train_scores, validation_scores = learning_curve(estimator= clf, X = x_train_scaled, y = y_train, train_sizes = train_sizes, cv = cv, scoring = 'f1', verbose = 0)\n",
    "train_scores_mean = train_scores.mean(axis =1)\n",
    "validation_scores_mean = validation_scores.mean(axis = 1)\n",
    "\n",
    "\n",
    "plt.style.use('seaborn')\n",
    "plt.plot(train_sizes, train_scores_mean, label = \"Training Error\")\n",
    "plt.plot(train_sizes, validation_scores_mean, label = \"Validation Error\")\n",
    "plt.ylabel('f1', fontsize = 14)\n",
    "plt.xlabel('Training set size', fontsize = 14)\n",
    "plt.title(\"Learning curves\", fontsize = 14)\n",
    "plt.legend()\n",
    "plt.ylim(0,1)"
   ]
  },
  {
   "cell_type": "markdown",
   "metadata": {
    "papermill": {
     "duration": 0.012219,
     "end_time": "2020-12-03T23:46:33.069120",
     "exception": false,
     "start_time": "2020-12-03T23:46:33.056901",
     "status": "completed"
    },
    "tags": []
   },
   "source": [
    "### Validation Curve used for simple hyperparameter tuning\n",
    "I experimented with various activation functions, learning rates, hidden layer sizes, and solver functions to try and find ideal hyperparameters. "
   ]
  },
  {
   "cell_type": "code",
   "execution_count": 4,
   "metadata": {
    "execution": {
     "iopub.execute_input": "2020-12-03T23:46:33.109001Z",
     "iopub.status.busy": "2020-12-03T23:46:33.108224Z",
     "iopub.status.idle": "2020-12-03T23:47:36.735220Z",
     "shell.execute_reply": "2020-12-03T23:47:36.735884Z"
    },
    "papermill": {
     "duration": 63.655659,
     "end_time": "2020-12-03T23:47:36.736053",
     "exception": false,
     "start_time": "2020-12-03T23:46:33.080394",
     "status": "completed"
    },
    "tags": []
   },
   "outputs": [
    {
     "name": "stdout",
     "output_type": "stream",
     "text": [
      "[0.97971472 0.94655784 0.9405721  0.9412129 ]\n"
     ]
    },
    {
     "data": {
      "text/plain": [
       "(0.5, 1.0)"
      ]
     },
     "execution_count": 4,
     "metadata": {},
     "output_type": "execute_result"
    },
    {
     "data": {
      "image/png": "[encoded data removed]",
      "text/plain": [
       "<Figure size 576x396 with 1 Axes>"
      ]
     },
     "metadata": {},
     "output_type": "display_data"
    }
   ],
   "source": [
    "from sklearn.model_selection import validation_curve\n",
    "\n",
    "x_train_, x_val, y_train_, y_val = train_test_split(x_train_scaled, y_train, test_size = .2)\n",
    "# print(x_train_.shape)\n",
    "# print(x_train.shape)\n",
    "\n",
    "# hidden_layer_sizes params\n",
    "bighidden_sizes = list(range(300,401))\n",
    "hidden_param_range = [300]\n",
    "for i in bighidden_sizes:\n",
    "    if i % 10 == 0:\n",
    "        hidden_param_range.append(int(i))\n",
    "param_range_len = np.arange(len(hidden_param_range))\n",
    "\n",
    "# solver params\n",
    "solver_param_range = ('lbfgs', 'sgd', 'adam')\n",
    "\n",
    "# activation params\n",
    "act_param_range = ('identity', 'logistic', 'tanh', 'relu')\n",
    "\n",
    "# learning_curve params\n",
    "learn_param_range = ('constant', 'invscaling', 'adaptive')\n",
    "\n",
    "param_range = act_param_range\n",
    "\n",
    "clf = MLPClassifier(batch_size=10, solver = 'lbfgs', hidden_layer_sizes = 300, verbose=False, early_stopping=True)\n",
    "cv = ShuffleSplit(n_splits=10, test_size=0.2)\n",
    "train_scores, validation_scores = validation_curve(estimator= clf, X = x_train_, y = y_train_, param_name = 'activation', param_range = param_range, cv = cv, scoring = 'f1', verbose = 0)\n",
    "train_scores_mean = train_scores.mean(axis =1)\n",
    "validation_scores_mean = validation_scores.mean(axis = 1)\n",
    "# print(pd.Series(train_scores_mean, index = train_sizes))\n",
    "# print(pd.Series(validation_scores_mean, index = train_sizes))\n",
    "print(validation_scores_mean)\n",
    "\n",
    "plt.style.use('seaborn')\n",
    "plt.plot(param_range, train_scores_mean, label = \"Training Error\")\n",
    "plt.plot(param_range, validation_scores_mean, label = \"Validation Error\")\n",
    "plt.ylabel('F1 Score', fontsize = 14)\n",
    "plt.xlabel('Activation function', fontsize = 14)\n",
    "plt.title(\"Learning curves\", fontsize = 14)\n",
    "plt.legend()\n",
    "plt.ylim(.5,1)"
   ]
  },
  {
   "cell_type": "markdown",
   "metadata": {
    "papermill": {
     "duration": 0.014226,
     "end_time": "2020-12-03T23:47:36.765050",
     "exception": false,
     "start_time": "2020-12-03T23:47:36.750824",
     "status": "completed"
    },
    "tags": []
   },
   "source": [
    "### MLPClassifier model with ideal parameters found using validation curves\n",
    "The identity activation function, invscaling learning rate, and lbfgs solver were found to improve accuracy the most using various validation curves. Hidden layers sizes between 1 and 500 were also experimented with, but only using one hidden layer. I intend of incorporate tuning on multiple hidden layers in the future."
   ]
  },
  {
   "cell_type": "code",
   "execution_count": 5,
   "metadata": {
    "execution": {
     "iopub.execute_input": "2020-12-03T23:47:36.808185Z",
     "iopub.status.busy": "2020-12-03T23:47:36.802693Z",
     "iopub.status.idle": "2020-12-03T23:47:42.447569Z",
     "shell.execute_reply": "2020-12-03T23:47:42.446352Z"
    },
    "papermill": {
     "duration": 5.668562,
     "end_time": "2020-12-03T23:47:42.447722",
     "exception": false,
     "start_time": "2020-12-03T23:47:36.779160",
     "status": "completed"
    },
    "tags": []
   },
   "outputs": [
    {
     "name": "stdout",
     "output_type": "stream",
     "text": [
      "Dummy model accuracy: 66.190%\n",
      "Training set k-fold cross validation mean accuracy: 98.327%\n",
      "Validation set accuracy: 98.512%\n",
      "Test set accuracy: 98.333%\n",
      "AUC: 99.858%\n",
      "Log loss: 0.051\n",
      "F1 Score: 0.975\n"
     ]
    },
    {
     "data": {
      "image/png": "[encoded data removed]",
      "text/plain": [
       "<Figure size 576x396 with 2 Axes>"
      ]
     },
     "metadata": {},
     "output_type": "display_data"
    }
   ],
   "source": [
    "from sklearn.model_selection import cross_val_score\n",
    "from sklearn.dummy import DummyClassifier\n",
    "from sklearn.metrics import confusion_matrix, accuracy_score, roc_auc_score, log_loss, f1_score\n",
    "import seaborn as sns\n",
    "\n",
    "x_train_, x_val, y_train_, y_val = train_test_split(x_train_scaled, y_train, test_size = .2)\n",
    "\n",
    "#dummy model accuracy (baseline)\n",
    "dummy_model = DummyClassifier(strategy = \"most_frequent\")\n",
    "dummy_model.fit(x_train_scaled,y_train)\n",
    "dummy_acc = dummy_model.score(x_test_scaled,y_test)*100\n",
    "dumb_pred = dummy_model.predict(x_test_scaled)\n",
    "print('Dummy model accuracy: %.3f%%' % dummy_acc)\n",
    "\n",
    "def getModel():\n",
    "    model = MLPClassifier(batch_size=10, solver = 'lbfgs', learning_rate = 'invscaling', activation = 'identity', hidden_layer_sizes = 300, verbose=False, early_stopping=True)\n",
    "    model.fit(x_train_,y_train_)\n",
    "    return model\n",
    "    \n",
    "model = getModel()\n",
    "\n",
    "# 10 fold cross validation score\n",
    "cv = ShuffleSplit(n_splits=10, test_size=0.2)\n",
    "results = cross_val_score(model, x_train_, y_train_, cv=cv)\n",
    "print('Training set k-fold cross validation mean accuracy: %.3f%%' % (100*np.mean(results)))\n",
    "\n",
    "#basic predict - validation set\n",
    "y_pred1 = model.predict(x_val)\n",
    "pred_accuracy_percentage1 = 100 * accuracy_score(y_val,y_pred1)\n",
    "print('Validation set accuracy: %.3f%%' % pred_accuracy_percentage1)\n",
    "\n",
    "#basic predict - test set\n",
    "y_pred = model.predict(x_test_scaled)\n",
    "pred_accuracy_percentage = 100 * accuracy_score(y_test,y_pred)\n",
    "print('Test set accuracy: %.3f%%' % pred_accuracy_percentage)\n",
    "\n",
    "#ROC AUC metric\n",
    "# pred_auc = model.predict(x_test)\n",
    "pred_auc = model.predict_proba(x_test_scaled)[:,1]\n",
    "acc = roc_auc_score(y_test, pred_auc)\n",
    "print('AUC: %.3f%%' % (100*acc))\n",
    "\n",
    "#log loss metric\n",
    "lloss = log_loss(y_test,pred_auc, normalize = True)\n",
    "print('Log loss: %.3f' % lloss)\n",
    "\n",
    "#f1_score\n",
    "f1 = f1_score(y_test,y_pred)\n",
    "print('F1 Score: %.3f' % f1)\n",
    "\n",
    "#Confusion Matrix\n",
    "plt.figure()\n",
    "ax = plt.axes()\n",
    "cm = confusion_matrix(y_test,y_pred)\n",
    "sns.heatmap(cm, annot = True, fmt = 'd', ax = ax)\n",
    "ax.set_title('Confusion Matrix of Loan Default Classifier')\n",
    "plt.show()\n",
    "\n",
    "\n",
    "\n"
   ]
  }
 ],
 "metadata": {
  "kernelspec": {
   "display_name": "Python 3",
   "language": "python",
   "name": "python3"
  },
  "language_info": {
   "codemirror_mode": {
    "name": "ipython",
    "version": 3
   },
   "file_extension": ".py",
   "mimetype": "text/x-python",
   "name": "python",
   "nbconvert_exporter": "python",
   "pygments_lexer": "ipython3",
   "version": "3.7.6"
  },
  "papermill": {
   "duration": 251.85136,
   "end_time": "2020-12-03T23:47:42.573008",
   "environment_variables": {},
   "exception": null,
   "input_path": "__notebook__.ipynb",
   "output_path": "__notebook__.ipynb",
   "parameters": {},
   "start_time": "2020-12-03T23:43:30.721648",
   "version": "2.1.0"
  }
 },
 "nbformat": 4,
 "nbformat_minor": 4
}
